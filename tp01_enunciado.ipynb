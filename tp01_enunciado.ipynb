{
  "cells": [
    {
      "cell_type": "markdown",
      "metadata": {
        "id": "SOjji6Huilcy"
      },
      "source": [
        "[![Open In Colab](https://colab.research.google.com/assets/colab-badge.svg)](https://colab.research.google.com/github/aprendizaje-automatico-dc-uba-ar/material/blob/main/tp/01_aprendizaje_supervisado/tp01-enunciado.ipynb)\n",
        "\n",
        "# Trabajo Práctico -  Aprendizaje supervisado\n",
        "### Clasificación de expresiones genómicas\n",
        "\n",
        "<span style=\"color: red;\">**Fecha de entrega: Jueves 01 de mayo del 2025 - hasta las 17:00hs.**\n",
        "\n",
        "<span style=\"color: red;\">**Fecha de entrega intermedia: Jueves 17 de Abril del 2025 - hasta las 17:00hs.**\n",
        "</span>\n",
        "\n",
        "## Introducción\n",
        "\n",
        "En el mundo actual, distintas disciplinas científicas empiezan, cada vez más, a interactuar con el fin de potenciar sus descubrimientos. En este caso dos grupos de investigación de [CONICET](https://www.conicet.gov.ar/) se embarcan en la combinación entre biología y informática para abordar la detección temprana y el pronóstico preciso de enfermedades como el cáncer. Este proyecto combina las tecnologías de secuenciación de nueva generación ([_NGS_](https://es.wikipedia.org/wiki/Secuenciaci%C3%B3n_paralela_masiva), por sus siglas en inglés) con la potencia de la inteligencia artificial. El enfoque se centra en un dataset único que abarca mediciones de [_ARN_](https://es.wikipedia.org/wiki/ARN_mensajero) de 200 [_genes_](https://es.wikipedia.org/wiki/Gen), recopiladas de pacientes con lesiones [_pre-tumorales_](https://en.wikipedia.org/wiki/Hyperplasia). Este conjunto de datos se convierte en una valiosa fuente de información para entender cómo las células en estado de hiperplasia pueden evolucionar hacia [_tumores malignos_](https://en.wikipedia.org/wiki/Neoplasm), una transformación que ha desconcertado a la ciencia durante décadas.\n",
        "\n",
        "La hiperplasia, es un fenómeno en el que las células experimentan un crecimiento anormal y descontrolado, es un punto de partida crucial en nuestro análisis. ¿Cómo y por qué algunas células que experimentan hiperplasia se convierten en células cancerosas, mientras que otras no? Esta pregunta es el corazón de nuestra investigación. Para responderla se realizo un estudio donde se obtuvieron muestras de distintos tipos de hiperplasias de pacientes con antecedentes familiares y lesiones pre tumorales. Este grupo de pacientes, o cohorte, fue monitoreado periodicamente durante los siguientes 5 años buscando indicios de neoplasias o nuevas hiperplasias más agresivas. Con las muestras obtenidas en este estudio se realizo un [_biobanco_](https://en.wikipedia.org/wiki/Biobank) con las mediciones que habitualmente se hacen en la construccion de este tipo de [_plataformas_](https://xena.ucsc.edu/). Cada muestra fue etiquetada como **_buen pronostico_**, si no hubo indicios de nuevas hiperplasias o similares; contrariamente se etiquetaron como de **_mal pronostico_** si hubo una recaida.\n",
        "\n",
        "Este trabajo se concentra en un panel de genes, especificamente en la expresion de 200 genes que se creen tienen un papel crucial en la transformacion tumoral y su etiqueta correspondiente.\n",
        "\n",
        "En concreto:\n",
        "\n",
        "Tendrán un archivo `.csv` en donde se almacenan:\n",
        "  - una matriz de datos `X` de $500$ filas en donde cada fila $x^{(i)}$ representa un vector de $200$ características de cada instancia. Es decir, $\\textbf{x}^{(i)} = x_1^{(i)}, \\dots, x_{200}^{(i)}$ con $i$ entre $1$ y $500$.\n",
        "  - una columna llamada `target` que representa un vector de $500$ posiciones con dos posibles valores: `True` (ó 1, es decir, tiene buen pronostico) y `False` (ó 0, tiene mal pronostico).\n",
        "\n",
        "Los datos están en esta [carpeta](https://github.com/aprendizaje-automatico-dc-uba-ar/material/tree/main/tp/01_aprendizaje_supervisado/datos).\n",
        "\n",
        "Por otra parte, tendrán disponibles un conjunto de instancias sin etiquetas, que utilizaremos para comprobar la calidad de sus resultados (ver Ejercicio 5).\n",
        "\n",
        "**Recomendamos fuertemente leer primero todo el enunciado del trabajo antes de empezar a trabajar sobre el problema propuesto.**\n",
        "\n",
        "---\n",
        "\n",
        "### Sobre el informe\n",
        "\n",
        "Para este trabajo deberán entregar, además del código de las pruebas y experimentos que realicen, un informe en el que deberan seleccionar, para cada apartado, sus resultados acompañado de un texto que explique, reflexione, justifique y conluya dicho contenido.\n",
        "\n",
        "Cada ejercicio indica el largo máximo del texto que se puede incluir. Los gráficos no están contados en dicho espacio.\n",
        "Cada gráfico incluido debe contar con:\n",
        "  \n",
        "  - nombres de los ejes,\n",
        "  - título,\n",
        "  - leyenda autocontenida,\n",
        "  - debe ser referenciado desde el texto, ya que su inclusión se da porque aporta a la discusión del trabajo.\n",
        "\n",
        "**El informe no puede superar un máximo de 8 carillas (contando gráficos) o 4 hojas más carátula.** Tamaño de la letra: estandár de latex (10pt). No se corregirán trabajos que no cumplan con esta consigna.\n",
        "\n",
        "---"
      ]
    },
    {
      "cell_type": "code",
      "source": [
        "import numpy as np\n",
        "import pandas as pd\n",
        "import matplotlib.pyplot as plt"
      ],
      "metadata": {
        "id": "aQACpXMwiyGI"
      },
      "execution_count": 9,
      "outputs": []
    },
    {
      "cell_type": "markdown",
      "metadata": {
        "id": "WRGd-xAhilc3"
      },
      "source": [
        "## Ejercicio 1\n",
        "\n",
        "### Separación de datos\n",
        "\n",
        "Contarán con una cantidad limitada de datos, por lo cual es importante tomar una buena decisión en el momento de empezar a utilizarlos.\n",
        "\n",
        "Evaluar y justificar cómo separarán sus datos para desarrollo y para evaluación. ¿Qué consideraciones tuvieron en cuenta para realizar esta división?\n",
        "\n",
        "**Importante**: en este punto no está permitido dividir la base de datos utilizando la función `train_test_split` de sklearn. Deben decidir e implementar la separación."
      ]
    },
    {
      "cell_type": "code",
      "source": [
        "df = pd.read_csv(\"https://raw.githubusercontent.com/Mauro1642/Aprendizaje-Automatico/refs/heads/main/data.csv\")\n",
        "df"
      ],
      "metadata": {
        "colab": {
          "base_uri": "https://localhost:8080/",
          "height": 444
        },
        "id": "fXf-beUZiu6w",
        "outputId": "202f9a90-46f7-4a10-8654-17a6e307beed"
      },
      "execution_count": 162,
      "outputs": [
        {
          "output_type": "execute_result",
          "data": {
            "text/plain": [
              "         QqgU      IJsJ      YlJA      tFLR      MYkJ      Cado      cmdU  \\\n",
              "0   -0.753155 -0.304399  0.307146 -1.377240 -1.975242 -0.052628  0.430082   \n",
              "1    0.660977 -1.374880 -0.039899 -0.157981 -0.263226 -0.035127  1.583745   \n",
              "2    1.906825 -0.308091  1.115546  0.093203 -1.384119  0.616543  0.384448   \n",
              "3    3.767180 -0.495569 -0.654660  0.101866  0.644159  1.978273 -1.087526   \n",
              "4    3.540548  0.544672 -1.820594  0.068094  0.844530 -0.516157  0.561619   \n",
              "..        ...       ...       ...       ...       ...       ...       ...   \n",
              "495 -6.196035 -0.627457 -0.803145  0.256876  0.592146  1.088430 -0.831851   \n",
              "496 -1.045521 -0.875682 -0.829544 -1.494002  0.436961 -0.494770 -0.219712   \n",
              "497 -3.385825 -1.500261 -0.923048  0.002346 -1.189872 -1.471672  0.678777   \n",
              "498 -5.068169 -0.783885 -0.819872 -0.906944  0.210135  0.629747  0.802087   \n",
              "499 -3.366736 -0.380802 -0.450388 -0.001607  0.173118 -0.657043  1.089760   \n",
              "\n",
              "         AUYy       mVEY      zSZq  ...      cgNV      naPw      EOre  \\\n",
              "0   -0.659100   4.897377  0.754531  ...  0.975926 -0.593156  0.315798   \n",
              "1   -0.143602  12.945694 -0.347768  ... -0.274560  0.205678 -0.296301   \n",
              "2   -0.817921  -7.673495  1.028706  ... -0.369924 -0.678204  1.564510   \n",
              "3    0.925767  10.392570  0.203025  ...  0.252199 -0.200540  1.043750   \n",
              "4    1.634488   1.220771 -0.344691  ... -2.380954  1.532346 -1.594870   \n",
              "..        ...        ...       ...  ...       ...       ...       ...   \n",
              "495 -0.889525 -11.436139  0.542209  ...  1.038811 -0.773806 -0.905051   \n",
              "496 -0.387546  -0.751816  0.051520  ... -1.157861 -2.462821 -0.571710   \n",
              "497 -1.268629 -13.890491  1.880261  ...  0.880166  1.157510 -0.135622   \n",
              "498  0.333887   2.750179 -0.200211  ... -0.548944  0.258575 -0.522897   \n",
              "499  0.219435  11.163270  1.512574  ... -0.645803 -0.583400  0.279718   \n",
              "\n",
              "         sMSU      TihR      sbWq      aWBQ      fGxK      JWOq  target  \n",
              "0    0.546475  1.128513  7.654107  0.563439  0.322854 -1.754513       0  \n",
              "1   -1.004013  7.090070  0.182824  0.113722  1.323722  0.710734       0  \n",
              "2    0.314275 -4.246162 -1.941577 -0.566316 -0.261689 -1.715006       1  \n",
              "3   -0.039129 -2.898566 -5.231800 -0.476618 -0.300148  0.315923       0  \n",
              "4   -1.809599 -0.445860 -0.169324  1.876894 -0.043769  1.529304       0  \n",
              "..        ...       ...       ...       ...       ...       ...     ...  \n",
              "495 -0.404457  0.871845  2.107610 -0.572656 -0.607867  1.170686       1  \n",
              "496 -0.239654  4.685438  1.120013 -0.723162 -0.155328  1.200592       0  \n",
              "497 -0.866339 -3.999636  5.705475  0.426428  0.007213  1.047125       0  \n",
              "498 -0.139874  0.307522  2.683021 -0.336143  0.031017 -0.294661       0  \n",
              "499 -0.382738 -1.586025  1.118135  1.619701  0.542143  1.091134       0  \n",
              "\n",
              "[500 rows x 201 columns]"
            ],
            "text/html": [
              "\n",
              "  <div id=\"df-4829fefb-bbd5-43b9-a5b9-b70ce7babf54\" class=\"colab-df-container\">\n",
              "    <div>\n",
              "<style scoped>\n",
              "    .dataframe tbody tr th:only-of-type {\n",
              "        vertical-align: middle;\n",
              "    }\n",
              "\n",
              "    .dataframe tbody tr th {\n",
              "        vertical-align: top;\n",
              "    }\n",
              "\n",
              "    .dataframe thead th {\n",
              "        text-align: right;\n",
              "    }\n",
              "</style>\n",
              "<table border=\"1\" class=\"dataframe\">\n",
              "  <thead>\n",
              "    <tr style=\"text-align: right;\">\n",
              "      <th></th>\n",
              "      <th>QqgU</th>\n",
              "      <th>IJsJ</th>\n",
              "      <th>YlJA</th>\n",
              "      <th>tFLR</th>\n",
              "      <th>MYkJ</th>\n",
              "      <th>Cado</th>\n",
              "      <th>cmdU</th>\n",
              "      <th>AUYy</th>\n",
              "      <th>mVEY</th>\n",
              "      <th>zSZq</th>\n",
              "      <th>...</th>\n",
              "      <th>cgNV</th>\n",
              "      <th>naPw</th>\n",
              "      <th>EOre</th>\n",
              "      <th>sMSU</th>\n",
              "      <th>TihR</th>\n",
              "      <th>sbWq</th>\n",
              "      <th>aWBQ</th>\n",
              "      <th>fGxK</th>\n",
              "      <th>JWOq</th>\n",
              "      <th>target</th>\n",
              "    </tr>\n",
              "  </thead>\n",
              "  <tbody>\n",
              "    <tr>\n",
              "      <th>0</th>\n",
              "      <td>-0.753155</td>\n",
              "      <td>-0.304399</td>\n",
              "      <td>0.307146</td>\n",
              "      <td>-1.377240</td>\n",
              "      <td>-1.975242</td>\n",
              "      <td>-0.052628</td>\n",
              "      <td>0.430082</td>\n",
              "      <td>-0.659100</td>\n",
              "      <td>4.897377</td>\n",
              "      <td>0.754531</td>\n",
              "      <td>...</td>\n",
              "      <td>0.975926</td>\n",
              "      <td>-0.593156</td>\n",
              "      <td>0.315798</td>\n",
              "      <td>0.546475</td>\n",
              "      <td>1.128513</td>\n",
              "      <td>7.654107</td>\n",
              "      <td>0.563439</td>\n",
              "      <td>0.322854</td>\n",
              "      <td>-1.754513</td>\n",
              "      <td>0</td>\n",
              "    </tr>\n",
              "    <tr>\n",
              "      <th>1</th>\n",
              "      <td>0.660977</td>\n",
              "      <td>-1.374880</td>\n",
              "      <td>-0.039899</td>\n",
              "      <td>-0.157981</td>\n",
              "      <td>-0.263226</td>\n",
              "      <td>-0.035127</td>\n",
              "      <td>1.583745</td>\n",
              "      <td>-0.143602</td>\n",
              "      <td>12.945694</td>\n",
              "      <td>-0.347768</td>\n",
              "      <td>...</td>\n",
              "      <td>-0.274560</td>\n",
              "      <td>0.205678</td>\n",
              "      <td>-0.296301</td>\n",
              "      <td>-1.004013</td>\n",
              "      <td>7.090070</td>\n",
              "      <td>0.182824</td>\n",
              "      <td>0.113722</td>\n",
              "      <td>1.323722</td>\n",
              "      <td>0.710734</td>\n",
              "      <td>0</td>\n",
              "    </tr>\n",
              "    <tr>\n",
              "      <th>2</th>\n",
              "      <td>1.906825</td>\n",
              "      <td>-0.308091</td>\n",
              "      <td>1.115546</td>\n",
              "      <td>0.093203</td>\n",
              "      <td>-1.384119</td>\n",
              "      <td>0.616543</td>\n",
              "      <td>0.384448</td>\n",
              "      <td>-0.817921</td>\n",
              "      <td>-7.673495</td>\n",
              "      <td>1.028706</td>\n",
              "      <td>...</td>\n",
              "      <td>-0.369924</td>\n",
              "      <td>-0.678204</td>\n",
              "      <td>1.564510</td>\n",
              "      <td>0.314275</td>\n",
              "      <td>-4.246162</td>\n",
              "      <td>-1.941577</td>\n",
              "      <td>-0.566316</td>\n",
              "      <td>-0.261689</td>\n",
              "      <td>-1.715006</td>\n",
              "      <td>1</td>\n",
              "    </tr>\n",
              "    <tr>\n",
              "      <th>3</th>\n",
              "      <td>3.767180</td>\n",
              "      <td>-0.495569</td>\n",
              "      <td>-0.654660</td>\n",
              "      <td>0.101866</td>\n",
              "      <td>0.644159</td>\n",
              "      <td>1.978273</td>\n",
              "      <td>-1.087526</td>\n",
              "      <td>0.925767</td>\n",
              "      <td>10.392570</td>\n",
              "      <td>0.203025</td>\n",
              "      <td>...</td>\n",
              "      <td>0.252199</td>\n",
              "      <td>-0.200540</td>\n",
              "      <td>1.043750</td>\n",
              "      <td>-0.039129</td>\n",
              "      <td>-2.898566</td>\n",
              "      <td>-5.231800</td>\n",
              "      <td>-0.476618</td>\n",
              "      <td>-0.300148</td>\n",
              "      <td>0.315923</td>\n",
              "      <td>0</td>\n",
              "    </tr>\n",
              "    <tr>\n",
              "      <th>4</th>\n",
              "      <td>3.540548</td>\n",
              "      <td>0.544672</td>\n",
              "      <td>-1.820594</td>\n",
              "      <td>0.068094</td>\n",
              "      <td>0.844530</td>\n",
              "      <td>-0.516157</td>\n",
              "      <td>0.561619</td>\n",
              "      <td>1.634488</td>\n",
              "      <td>1.220771</td>\n",
              "      <td>-0.344691</td>\n",
              "      <td>...</td>\n",
              "      <td>-2.380954</td>\n",
              "      <td>1.532346</td>\n",
              "      <td>-1.594870</td>\n",
              "      <td>-1.809599</td>\n",
              "      <td>-0.445860</td>\n",
              "      <td>-0.169324</td>\n",
              "      <td>1.876894</td>\n",
              "      <td>-0.043769</td>\n",
              "      <td>1.529304</td>\n",
              "      <td>0</td>\n",
              "    </tr>\n",
              "    <tr>\n",
              "      <th>...</th>\n",
              "      <td>...</td>\n",
              "      <td>...</td>\n",
              "      <td>...</td>\n",
              "      <td>...</td>\n",
              "      <td>...</td>\n",
              "      <td>...</td>\n",
              "      <td>...</td>\n",
              "      <td>...</td>\n",
              "      <td>...</td>\n",
              "      <td>...</td>\n",
              "      <td>...</td>\n",
              "      <td>...</td>\n",
              "      <td>...</td>\n",
              "      <td>...</td>\n",
              "      <td>...</td>\n",
              "      <td>...</td>\n",
              "      <td>...</td>\n",
              "      <td>...</td>\n",
              "      <td>...</td>\n",
              "      <td>...</td>\n",
              "      <td>...</td>\n",
              "    </tr>\n",
              "    <tr>\n",
              "      <th>495</th>\n",
              "      <td>-6.196035</td>\n",
              "      <td>-0.627457</td>\n",
              "      <td>-0.803145</td>\n",
              "      <td>0.256876</td>\n",
              "      <td>0.592146</td>\n",
              "      <td>1.088430</td>\n",
              "      <td>-0.831851</td>\n",
              "      <td>-0.889525</td>\n",
              "      <td>-11.436139</td>\n",
              "      <td>0.542209</td>\n",
              "      <td>...</td>\n",
              "      <td>1.038811</td>\n",
              "      <td>-0.773806</td>\n",
              "      <td>-0.905051</td>\n",
              "      <td>-0.404457</td>\n",
              "      <td>0.871845</td>\n",
              "      <td>2.107610</td>\n",
              "      <td>-0.572656</td>\n",
              "      <td>-0.607867</td>\n",
              "      <td>1.170686</td>\n",
              "      <td>1</td>\n",
              "    </tr>\n",
              "    <tr>\n",
              "      <th>496</th>\n",
              "      <td>-1.045521</td>\n",
              "      <td>-0.875682</td>\n",
              "      <td>-0.829544</td>\n",
              "      <td>-1.494002</td>\n",
              "      <td>0.436961</td>\n",
              "      <td>-0.494770</td>\n",
              "      <td>-0.219712</td>\n",
              "      <td>-0.387546</td>\n",
              "      <td>-0.751816</td>\n",
              "      <td>0.051520</td>\n",
              "      <td>...</td>\n",
              "      <td>-1.157861</td>\n",
              "      <td>-2.462821</td>\n",
              "      <td>-0.571710</td>\n",
              "      <td>-0.239654</td>\n",
              "      <td>4.685438</td>\n",
              "      <td>1.120013</td>\n",
              "      <td>-0.723162</td>\n",
              "      <td>-0.155328</td>\n",
              "      <td>1.200592</td>\n",
              "      <td>0</td>\n",
              "    </tr>\n",
              "    <tr>\n",
              "      <th>497</th>\n",
              "      <td>-3.385825</td>\n",
              "      <td>-1.500261</td>\n",
              "      <td>-0.923048</td>\n",
              "      <td>0.002346</td>\n",
              "      <td>-1.189872</td>\n",
              "      <td>-1.471672</td>\n",
              "      <td>0.678777</td>\n",
              "      <td>-1.268629</td>\n",
              "      <td>-13.890491</td>\n",
              "      <td>1.880261</td>\n",
              "      <td>...</td>\n",
              "      <td>0.880166</td>\n",
              "      <td>1.157510</td>\n",
              "      <td>-0.135622</td>\n",
              "      <td>-0.866339</td>\n",
              "      <td>-3.999636</td>\n",
              "      <td>5.705475</td>\n",
              "      <td>0.426428</td>\n",
              "      <td>0.007213</td>\n",
              "      <td>1.047125</td>\n",
              "      <td>0</td>\n",
              "    </tr>\n",
              "    <tr>\n",
              "      <th>498</th>\n",
              "      <td>-5.068169</td>\n",
              "      <td>-0.783885</td>\n",
              "      <td>-0.819872</td>\n",
              "      <td>-0.906944</td>\n",
              "      <td>0.210135</td>\n",
              "      <td>0.629747</td>\n",
              "      <td>0.802087</td>\n",
              "      <td>0.333887</td>\n",
              "      <td>2.750179</td>\n",
              "      <td>-0.200211</td>\n",
              "      <td>...</td>\n",
              "      <td>-0.548944</td>\n",
              "      <td>0.258575</td>\n",
              "      <td>-0.522897</td>\n",
              "      <td>-0.139874</td>\n",
              "      <td>0.307522</td>\n",
              "      <td>2.683021</td>\n",
              "      <td>-0.336143</td>\n",
              "      <td>0.031017</td>\n",
              "      <td>-0.294661</td>\n",
              "      <td>0</td>\n",
              "    </tr>\n",
              "    <tr>\n",
              "      <th>499</th>\n",
              "      <td>-3.366736</td>\n",
              "      <td>-0.380802</td>\n",
              "      <td>-0.450388</td>\n",
              "      <td>-0.001607</td>\n",
              "      <td>0.173118</td>\n",
              "      <td>-0.657043</td>\n",
              "      <td>1.089760</td>\n",
              "      <td>0.219435</td>\n",
              "      <td>11.163270</td>\n",
              "      <td>1.512574</td>\n",
              "      <td>...</td>\n",
              "      <td>-0.645803</td>\n",
              "      <td>-0.583400</td>\n",
              "      <td>0.279718</td>\n",
              "      <td>-0.382738</td>\n",
              "      <td>-1.586025</td>\n",
              "      <td>1.118135</td>\n",
              "      <td>1.619701</td>\n",
              "      <td>0.542143</td>\n",
              "      <td>1.091134</td>\n",
              "      <td>0</td>\n",
              "    </tr>\n",
              "  </tbody>\n",
              "</table>\n",
              "<p>500 rows × 201 columns</p>\n",
              "</div>\n",
              "    <div class=\"colab-df-buttons\">\n",
              "\n",
              "  <div class=\"colab-df-container\">\n",
              "    <button class=\"colab-df-convert\" onclick=\"convertToInteractive('df-4829fefb-bbd5-43b9-a5b9-b70ce7babf54')\"\n",
              "            title=\"Convert this dataframe to an interactive table.\"\n",
              "            style=\"display:none;\">\n",
              "\n",
              "  <svg xmlns=\"http://www.w3.org/2000/svg\" height=\"24px\" viewBox=\"0 -960 960 960\">\n",
              "    <path d=\"M120-120v-720h720v720H120Zm60-500h600v-160H180v160Zm220 220h160v-160H400v160Zm0 220h160v-160H400v160ZM180-400h160v-160H180v160Zm440 0h160v-160H620v160ZM180-180h160v-160H180v160Zm440 0h160v-160H620v160Z\"/>\n",
              "  </svg>\n",
              "    </button>\n",
              "\n",
              "  <style>\n",
              "    .colab-df-container {\n",
              "      display:flex;\n",
              "      gap: 12px;\n",
              "    }\n",
              "\n",
              "    .colab-df-convert {\n",
              "      background-color: #E8F0FE;\n",
              "      border: none;\n",
              "      border-radius: 50%;\n",
              "      cursor: pointer;\n",
              "      display: none;\n",
              "      fill: #1967D2;\n",
              "      height: 32px;\n",
              "      padding: 0 0 0 0;\n",
              "      width: 32px;\n",
              "    }\n",
              "\n",
              "    .colab-df-convert:hover {\n",
              "      background-color: #E2EBFA;\n",
              "      box-shadow: 0px 1px 2px rgba(60, 64, 67, 0.3), 0px 1px 3px 1px rgba(60, 64, 67, 0.15);\n",
              "      fill: #174EA6;\n",
              "    }\n",
              "\n",
              "    .colab-df-buttons div {\n",
              "      margin-bottom: 4px;\n",
              "    }\n",
              "\n",
              "    [theme=dark] .colab-df-convert {\n",
              "      background-color: #3B4455;\n",
              "      fill: #D2E3FC;\n",
              "    }\n",
              "\n",
              "    [theme=dark] .colab-df-convert:hover {\n",
              "      background-color: #434B5C;\n",
              "      box-shadow: 0px 1px 3px 1px rgba(0, 0, 0, 0.15);\n",
              "      filter: drop-shadow(0px 1px 2px rgba(0, 0, 0, 0.3));\n",
              "      fill: #FFFFFF;\n",
              "    }\n",
              "  </style>\n",
              "\n",
              "    <script>\n",
              "      const buttonEl =\n",
              "        document.querySelector('#df-4829fefb-bbd5-43b9-a5b9-b70ce7babf54 button.colab-df-convert');\n",
              "      buttonEl.style.display =\n",
              "        google.colab.kernel.accessAllowed ? 'block' : 'none';\n",
              "\n",
              "      async function convertToInteractive(key) {\n",
              "        const element = document.querySelector('#df-4829fefb-bbd5-43b9-a5b9-b70ce7babf54');\n",
              "        const dataTable =\n",
              "          await google.colab.kernel.invokeFunction('convertToInteractive',\n",
              "                                                    [key], {});\n",
              "        if (!dataTable) return;\n",
              "\n",
              "        const docLinkHtml = 'Like what you see? Visit the ' +\n",
              "          '<a target=\"_blank\" href=https://colab.research.google.com/notebooks/data_table.ipynb>data table notebook</a>'\n",
              "          + ' to learn more about interactive tables.';\n",
              "        element.innerHTML = '';\n",
              "        dataTable['output_type'] = 'display_data';\n",
              "        await google.colab.output.renderOutput(dataTable, element);\n",
              "        const docLink = document.createElement('div');\n",
              "        docLink.innerHTML = docLinkHtml;\n",
              "        element.appendChild(docLink);\n",
              "      }\n",
              "    </script>\n",
              "  </div>\n",
              "\n",
              "\n",
              "<div id=\"df-70f8c8d7-98bc-45ab-91de-832232fbcd89\">\n",
              "  <button class=\"colab-df-quickchart\" onclick=\"quickchart('df-70f8c8d7-98bc-45ab-91de-832232fbcd89')\"\n",
              "            title=\"Suggest charts\"\n",
              "            style=\"display:none;\">\n",
              "\n",
              "<svg xmlns=\"http://www.w3.org/2000/svg\" height=\"24px\"viewBox=\"0 0 24 24\"\n",
              "     width=\"24px\">\n",
              "    <g>\n",
              "        <path d=\"M19 3H5c-1.1 0-2 .9-2 2v14c0 1.1.9 2 2 2h14c1.1 0 2-.9 2-2V5c0-1.1-.9-2-2-2zM9 17H7v-7h2v7zm4 0h-2V7h2v10zm4 0h-2v-4h2v4z\"/>\n",
              "    </g>\n",
              "</svg>\n",
              "  </button>\n",
              "\n",
              "<style>\n",
              "  .colab-df-quickchart {\n",
              "      --bg-color: #E8F0FE;\n",
              "      --fill-color: #1967D2;\n",
              "      --hover-bg-color: #E2EBFA;\n",
              "      --hover-fill-color: #174EA6;\n",
              "      --disabled-fill-color: #AAA;\n",
              "      --disabled-bg-color: #DDD;\n",
              "  }\n",
              "\n",
              "  [theme=dark] .colab-df-quickchart {\n",
              "      --bg-color: #3B4455;\n",
              "      --fill-color: #D2E3FC;\n",
              "      --hover-bg-color: #434B5C;\n",
              "      --hover-fill-color: #FFFFFF;\n",
              "      --disabled-bg-color: #3B4455;\n",
              "      --disabled-fill-color: #666;\n",
              "  }\n",
              "\n",
              "  .colab-df-quickchart {\n",
              "    background-color: var(--bg-color);\n",
              "    border: none;\n",
              "    border-radius: 50%;\n",
              "    cursor: pointer;\n",
              "    display: none;\n",
              "    fill: var(--fill-color);\n",
              "    height: 32px;\n",
              "    padding: 0;\n",
              "    width: 32px;\n",
              "  }\n",
              "\n",
              "  .colab-df-quickchart:hover {\n",
              "    background-color: var(--hover-bg-color);\n",
              "    box-shadow: 0 1px 2px rgba(60, 64, 67, 0.3), 0 1px 3px 1px rgba(60, 64, 67, 0.15);\n",
              "    fill: var(--button-hover-fill-color);\n",
              "  }\n",
              "\n",
              "  .colab-df-quickchart-complete:disabled,\n",
              "  .colab-df-quickchart-complete:disabled:hover {\n",
              "    background-color: var(--disabled-bg-color);\n",
              "    fill: var(--disabled-fill-color);\n",
              "    box-shadow: none;\n",
              "  }\n",
              "\n",
              "  .colab-df-spinner {\n",
              "    border: 2px solid var(--fill-color);\n",
              "    border-color: transparent;\n",
              "    border-bottom-color: var(--fill-color);\n",
              "    animation:\n",
              "      spin 1s steps(1) infinite;\n",
              "  }\n",
              "\n",
              "  @keyframes spin {\n",
              "    0% {\n",
              "      border-color: transparent;\n",
              "      border-bottom-color: var(--fill-color);\n",
              "      border-left-color: var(--fill-color);\n",
              "    }\n",
              "    20% {\n",
              "      border-color: transparent;\n",
              "      border-left-color: var(--fill-color);\n",
              "      border-top-color: var(--fill-color);\n",
              "    }\n",
              "    30% {\n",
              "      border-color: transparent;\n",
              "      border-left-color: var(--fill-color);\n",
              "      border-top-color: var(--fill-color);\n",
              "      border-right-color: var(--fill-color);\n",
              "    }\n",
              "    40% {\n",
              "      border-color: transparent;\n",
              "      border-right-color: var(--fill-color);\n",
              "      border-top-color: var(--fill-color);\n",
              "    }\n",
              "    60% {\n",
              "      border-color: transparent;\n",
              "      border-right-color: var(--fill-color);\n",
              "    }\n",
              "    80% {\n",
              "      border-color: transparent;\n",
              "      border-right-color: var(--fill-color);\n",
              "      border-bottom-color: var(--fill-color);\n",
              "    }\n",
              "    90% {\n",
              "      border-color: transparent;\n",
              "      border-bottom-color: var(--fill-color);\n",
              "    }\n",
              "  }\n",
              "</style>\n",
              "\n",
              "  <script>\n",
              "    async function quickchart(key) {\n",
              "      const quickchartButtonEl =\n",
              "        document.querySelector('#' + key + ' button');\n",
              "      quickchartButtonEl.disabled = true;  // To prevent multiple clicks.\n",
              "      quickchartButtonEl.classList.add('colab-df-spinner');\n",
              "      try {\n",
              "        const charts = await google.colab.kernel.invokeFunction(\n",
              "            'suggestCharts', [key], {});\n",
              "      } catch (error) {\n",
              "        console.error('Error during call to suggestCharts:', error);\n",
              "      }\n",
              "      quickchartButtonEl.classList.remove('colab-df-spinner');\n",
              "      quickchartButtonEl.classList.add('colab-df-quickchart-complete');\n",
              "    }\n",
              "    (() => {\n",
              "      let quickchartButtonEl =\n",
              "        document.querySelector('#df-70f8c8d7-98bc-45ab-91de-832232fbcd89 button');\n",
              "      quickchartButtonEl.style.display =\n",
              "        google.colab.kernel.accessAllowed ? 'block' : 'none';\n",
              "    })();\n",
              "  </script>\n",
              "</div>\n",
              "\n",
              "  <div id=\"id_b23b32ff-81de-4f7d-a803-9711533c7f73\">\n",
              "    <style>\n",
              "      .colab-df-generate {\n",
              "        background-color: #E8F0FE;\n",
              "        border: none;\n",
              "        border-radius: 50%;\n",
              "        cursor: pointer;\n",
              "        display: none;\n",
              "        fill: #1967D2;\n",
              "        height: 32px;\n",
              "        padding: 0 0 0 0;\n",
              "        width: 32px;\n",
              "      }\n",
              "\n",
              "      .colab-df-generate:hover {\n",
              "        background-color: #E2EBFA;\n",
              "        box-shadow: 0px 1px 2px rgba(60, 64, 67, 0.3), 0px 1px 3px 1px rgba(60, 64, 67, 0.15);\n",
              "        fill: #174EA6;\n",
              "      }\n",
              "\n",
              "      [theme=dark] .colab-df-generate {\n",
              "        background-color: #3B4455;\n",
              "        fill: #D2E3FC;\n",
              "      }\n",
              "\n",
              "      [theme=dark] .colab-df-generate:hover {\n",
              "        background-color: #434B5C;\n",
              "        box-shadow: 0px 1px 3px 1px rgba(0, 0, 0, 0.15);\n",
              "        filter: drop-shadow(0px 1px 2px rgba(0, 0, 0, 0.3));\n",
              "        fill: #FFFFFF;\n",
              "      }\n",
              "    </style>\n",
              "    <button class=\"colab-df-generate\" onclick=\"generateWithVariable('df')\"\n",
              "            title=\"Generate code using this dataframe.\"\n",
              "            style=\"display:none;\">\n",
              "\n",
              "  <svg xmlns=\"http://www.w3.org/2000/svg\" height=\"24px\"viewBox=\"0 0 24 24\"\n",
              "       width=\"24px\">\n",
              "    <path d=\"M7,19H8.4L18.45,9,17,7.55,7,17.6ZM5,21V16.75L18.45,3.32a2,2,0,0,1,2.83,0l1.4,1.43a1.91,1.91,0,0,1,.58,1.4,1.91,1.91,0,0,1-.58,1.4L9.25,21ZM18.45,9,17,7.55Zm-12,3A5.31,5.31,0,0,0,4.9,8.1,5.31,5.31,0,0,0,1,6.5,5.31,5.31,0,0,0,4.9,4.9,5.31,5.31,0,0,0,6.5,1,5.31,5.31,0,0,0,8.1,4.9,5.31,5.31,0,0,0,12,6.5,5.46,5.46,0,0,0,6.5,12Z\"/>\n",
              "  </svg>\n",
              "    </button>\n",
              "    <script>\n",
              "      (() => {\n",
              "      const buttonEl =\n",
              "        document.querySelector('#id_b23b32ff-81de-4f7d-a803-9711533c7f73 button.colab-df-generate');\n",
              "      buttonEl.style.display =\n",
              "        google.colab.kernel.accessAllowed ? 'block' : 'none';\n",
              "\n",
              "      buttonEl.onclick = () => {\n",
              "        google.colab.notebook.generateWithVariable('df');\n",
              "      }\n",
              "      })();\n",
              "    </script>\n",
              "  </div>\n",
              "\n",
              "    </div>\n",
              "  </div>\n"
            ],
            "application/vnd.google.colaboratory.intrinsic+json": {
              "type": "dataframe",
              "variable_name": "df"
            }
          },
          "metadata": {},
          "execution_count": 162
        }
      ]
    },
    {
      "cell_type": "code",
      "source": [
        "# Veamos la proporción de negativos (0) y postivos (1):\n",
        "df['target'].value_counts()/len(df)"
      ],
      "metadata": {
        "colab": {
          "base_uri": "https://localhost:8080/",
          "height": 178
        },
        "id": "bbtiuLOhjDed",
        "outputId": "a8ed856f-264d-4d3d-a6b1-325869303c9d"
      },
      "execution_count": 163,
      "outputs": [
        {
          "output_type": "execute_result",
          "data": {
            "text/plain": [
              "target\n",
              "0    0.698\n",
              "1    0.302\n",
              "Name: count, dtype: float64"
            ],
            "text/html": [
              "<div>\n",
              "<style scoped>\n",
              "    .dataframe tbody tr th:only-of-type {\n",
              "        vertical-align: middle;\n",
              "    }\n",
              "\n",
              "    .dataframe tbody tr th {\n",
              "        vertical-align: top;\n",
              "    }\n",
              "\n",
              "    .dataframe thead th {\n",
              "        text-align: right;\n",
              "    }\n",
              "</style>\n",
              "<table border=\"1\" class=\"dataframe\">\n",
              "  <thead>\n",
              "    <tr style=\"text-align: right;\">\n",
              "      <th></th>\n",
              "      <th>count</th>\n",
              "    </tr>\n",
              "    <tr>\n",
              "      <th>target</th>\n",
              "      <th></th>\n",
              "    </tr>\n",
              "  </thead>\n",
              "  <tbody>\n",
              "    <tr>\n",
              "      <th>0</th>\n",
              "      <td>0.698</td>\n",
              "    </tr>\n",
              "    <tr>\n",
              "      <th>1</th>\n",
              "      <td>0.302</td>\n",
              "    </tr>\n",
              "  </tbody>\n",
              "</table>\n",
              "</div><br><label><b>dtype:</b> float64</label>"
            ]
          },
          "metadata": {},
          "execution_count": 163
        }
      ]
    },
    {
      "cell_type": "code",
      "source": [
        "def stratified_split(df: pd.DataFrame, eval_prop: float) -> tuple[pd.DataFrame, pd.DataFrame, pd.DataFrame, pd.DataFrame]:\n",
        "    \"\"\"\n",
        "    Separa el dataset df en desarrollo y evaluación manteniendo en ambos la\n",
        "    misma proporción de cada clase respecto al original.\n",
        "    \"\"\"\n",
        "    n_samples = len(df)\n",
        "    n_negativos, n_positivos = df[\"target\"].value_counts()\n",
        "\n",
        "    dev_prop = 1 - eval_prop\n",
        "\n",
        "    # Mezclamos las instancias del dataset\n",
        "    df = df.sample(frac=1, random_state=42).reset_index(drop=True)\n",
        "\n",
        "    # Separamos el dataframe de los negativos y positivos\n",
        "    df_negativos = df[df[\"target\"] == 0]\n",
        "    df_positivos = df[df[\"target\"] == 1]\n",
        "\n",
        "    # Juntamos los primeros n_pos(neg)*dev_prop de c/u y los dejamos para desarrollo\n",
        "    df_dev = pd.concat([\n",
        "        df_positivos.iloc[:int(n_positivos*dev_prop)],\n",
        "        df_negativos.iloc[:int(n_negativos*dev_prop)]\n",
        "    ])\n",
        "    # Los restantes quedan para evaluación\n",
        "    df_eval = pd.concat([\n",
        "        df_positivos.iloc[int(n_positivos*dev_prop):],\n",
        "        df_negativos.iloc[int(n_negativos*dev_prop):]\n",
        "    ])\n",
        "\n",
        "    X_dev, y_dev = df_dev.drop(\"target\", axis=1), df_dev[\"target\"]\n",
        "    X_eval, y_eval = df_eval.drop(\"target\", axis=1), df_eval[\"target\"]\n",
        "\n",
        "    return X_dev, y_dev, X_eval, y_eval"
      ],
      "metadata": {
        "id": "2Kx8yFcTjaoh"
      },
      "execution_count": 171,
      "outputs": []
    },
    {
      "cell_type": "code",
      "source": [
        "X_dev, y_dev, X_eval, y_eval = stratified_split(df, 0.2)"
      ],
      "metadata": {
        "id": "XF-U87d12aBY"
      },
      "execution_count": 172,
      "outputs": []
    },
    {
      "cell_type": "code",
      "source": [
        "print(f\"Proporciones en desarrollo: {y_dev.value_counts()/len(y_dev)}\")\n",
        "print(f\"Proporciones en evaluación: {y_eval.value_counts()/len(y_eval)}\")"
      ],
      "metadata": {
        "colab": {
          "base_uri": "https://localhost:8080/"
        },
        "id": "luF60E9geWrx",
        "outputId": "80f49026-cdf8-4e08-9c16-e620a9a08b38"
      },
      "execution_count": 176,
      "outputs": [
        {
          "output_type": "stream",
          "name": "stdout",
          "text": [
            "Proporciones en desarrollo: target\n",
            "0    0.699248\n",
            "1    0.300752\n",
            "Name: count, dtype: float64\n",
            "Proporciones en evaluación: target\n",
            "0    0.693069\n",
            "1    0.306931\n",
            "Name: count, dtype: float64\n"
          ]
        }
      ]
    },
    {
      "cell_type": "markdown",
      "source": [
        "## Ejercicio 2\n",
        "\n",
        "\n",
        "### Construcción de modelos\n",
        "\n",
        "Para este punto, la tarea consiste en construir y evaluar modelos de tipo **árbol de decisión**. Además, obtener una **estimación realista de la performance** de los mismos."
      ],
      "metadata": {
        "id": "M9qolFL92Tgi"
      }
    },
    {
      "cell_type": "markdown",
      "metadata": {
        "id": "bsHwadNiilc4"
      },
      "source": [
        "1. Entrenar un árbol de decisión con altura máxima 3 y el resto de los hiperparámetros en default."
      ]
    },
    {
      "cell_type": "markdown",
      "source": [
        "2. Estimar la performance del modelo utilizando _K-fold cross validation_ con `K=5`, con las métricas _Accuracy_, _Area Under the Precision-Recall Curve (AUPRC)_, y _Area Under the Receiver Operating Characteristic Curve (AUCROC)_.\n",
        "\n",
        "   En esta oportunidad se va a pedir además de calcular las métricas para cada fold por separado y su promedio, que hagan el cálculo del score global (como vimos en clase), sólo para los folds de validación."
      ],
      "metadata": {
        "id": "_jXVAD7ukia7"
      }
    },
    {
      "cell_type": "code",
      "source": [
        "from sklearn.tree import DecisionTreeClassifier\n",
        "from sklearn.model_selection import cross_validate\n",
        "from sklearn.metrics import make_scorer, roc_auc_score, average_precision_score\n",
        "\n",
        "# Metricas de evaluación\n",
        "metricas = {\n",
        "    \"Accuracy\": \"accuracy\",\n",
        "    \"AUPRC\": make_scorer(average_precision_score, response_method=\"predict_proba\"),\n",
        "    \"AUCROC\": make_scorer(average_precision_score, response_method=\"predict_proba\")\n",
        "}\n",
        "\n",
        "arbol = DecisionTreeClassifier(max_depth=3)\n",
        "\n",
        "scores = cross_validate(arbol, X_dev, y_dev,\n",
        "                        cv=5,\n",
        "                        scoring=metricas,\n",
        "                        return_train_score=True)\n",
        "\n",
        "for key, value in scores.items():\n",
        "  print(f\"{key}: {value}, mean = {float(value.mean())}\")\n",
        "  print()"
      ],
      "metadata": {
        "colab": {
          "base_uri": "https://localhost:8080/"
        },
        "id": "e_mjQblDlZJc",
        "outputId": "6ddcc12f-0132-4d7d-b593-fd8ad059223a"
      },
      "execution_count": 278,
      "outputs": [
        {
          "output_type": "stream",
          "name": "stdout",
          "text": [
            "fit_time: [0.03483462 0.03013539 0.0289228  0.02900076 0.03002477], mean = 0.030583667755126952\n",
            "\n",
            "score_time: [0.0112133  0.00749969 0.00746608 0.00781727 0.00754428], mean = 0.008308124542236329\n",
            "\n",
            "test_Accuracy: [0.7625     0.625      0.675      0.6        0.65822785], mean = 0.6641455696202532\n",
            "\n",
            "train_Accuracy: [0.78996865 0.80564263 0.82445141 0.82131661 0.784375  ], mean = 0.8051508620689655\n",
            "\n",
            "test_AUPRC: [0.57097917 0.36954822 0.35695641 0.29013401 0.36845073], mean = 0.39121370772702924\n",
            "\n",
            "train_AUPRC: [0.61776417 0.70387738 0.69752448 0.68712708 0.65410026], mean = 0.6720786735854937\n",
            "\n",
            "test_AUCROC: [0.57097917 0.36954822 0.35695641 0.29013401 0.36845073], mean = 0.39121370772702924\n",
            "\n",
            "train_AUCROC: [0.61776417 0.70387738 0.69752448 0.68712708 0.65410026], mean = 0.6720786735854937\n",
            "\n"
          ]
        }
      ]
    },
    {
      "cell_type": "code",
      "source": [
        "# Calculamos las metricas globales global\n",
        "from sklearn.metrics import accuracy_score, roc_auc_score, average_precision_score\n",
        "\n",
        "arbol.fit(X_dev, y_dev)\n",
        "y_pred = arbol.predict(X_eval)\n",
        "\n",
        "print(f\"Accuracy: {accuracy_score(y_eval, y_pred)}\")\n",
        "print(f\"AUPRC: {average_precision_score(y_eval, y_pred)}\")\n",
        "print(f\"AUCROC: {roc_auc_score(y_eval, y_pred)}\")"
      ],
      "metadata": {
        "colab": {
          "base_uri": "https://localhost:8080/"
        },
        "id": "YctavImg5FPK",
        "outputId": "a0927d75-d30b-4b34-f731-aa4cadeb22dd"
      },
      "execution_count": 143,
      "outputs": [
        {
          "output_type": "stream",
          "name": "stdout",
          "text": [
            "Accuracy: 0.6633663366336634\n",
            "AUPRC: 0.38445955194597803\n",
            "AUCROC: 0.6223502304147466\n"
          ]
        }
      ]
    },
    {
      "cell_type": "markdown",
      "source": [
        "<table>\n",
        "      <thead>\n",
        "      <tr>\n",
        "      <th align=\"center\">Permutación</th>\n",
        "      <th>Accuracy (training)</th>\n",
        "      <th>Accuracy (validación)</th>\n",
        "      <th>AUPRC (training)</th>\n",
        "      <th>AUPRC (validación)</th>\n",
        "      <th>AUC ROC (training)</th>\n",
        "      <th>AUC ROC (validación)</th>\n",
        "      </tr>\n",
        "      </thead>\n",
        "      <tbody>\n",
        "      <tr>\n",
        "      <td align=\"center\">1</td>\n",
        "      <td align=\"center\">0.840</td>\n",
        "      <td align=\"center\">0.713</td>\n",
        "      <td align=\"center\">0.698</td>\n",
        "      <td align=\"center\">0.402</td>\n",
        "      <td align=\"center\">0.819</td>\n",
        "      <td align=\"center\">0.615</td>\n",
        "      </tr>\n",
        "      <tr>\n",
        "      <td align=\"center\">2</td>\n",
        "      <td align=\"center\">0.809</td>\n",
        "      <td align=\"center\">0.663</td>\n",
        "      <td align=\"center\">0.656</td>\n",
        "      <td align=\"center\">0.362</td>\n",
        "      <td align=\"center\">0.842</td>\n",
        "      <td align=\"center\">0.585</td>\n",
        "      </tr>\n",
        "      <tr>\n",
        "      <td align=\"center\">3</td>\n",
        "      <td align=\"center\">0.787</td>\n",
        "      <td align=\"center\">0.713</td>\n",
        "      <td align=\"center\">0.607</td>\n",
        "      <td align=\"center\">0.417</td>\n",
        "      <td align=\"center\">0.832</td>\n",
        "      <td align=\"center\">0.626</td>\n",
        "      </tr>\n",
        "      <tr>\n",
        "      <td align=\"center\">4</td>\n",
        "      <td align=\"center\">0.843</td>\n",
        "      <td align=\"center\">0.625</td>\n",
        "      <td align=\"center\">0.680</td>\n",
        "      <td align=\"center\">0.344</td>\n",
        "      <td align=\"center\">0.813</td>\n",
        "      <td align=\"center\">0.591</td>\n",
        "      </tr>\n",
        "      <tr>\n",
        "      <td align=\"center\">5</td>\n",
        "      <td align=\"center\">0.822</td>\n",
        "      <td align=\"center\">0.671</td>\n",
        "      <td align=\"center\">0.677</td>\n",
        "      <td align=\"center\">0.377</td>\n",
        "      <td align=\"center\">0.815</td>\n",
        "      <td align=\"center\">0.631</td>\n",
        "      </tr>\n",
        "      <tr>\n",
        "      <td align=\"center\">Promedios</td>\n",
        "      <td align=\"center\">0.820</td>\n",
        "      <td align=\"center\">0.677</td>\n",
        "      <td align=\"center\">0.664</td>\n",
        "      <td align=\"center\">0.380</td>\n",
        "      <td align=\"center\">0.824</td>\n",
        "      <td align=\"center\">0.609</td>\n",
        "      </tr>\n",
        "      <td align=\"center\">Global</td>\n",
        "      <td align=\"center\">(NO) </td>\n",
        "      <td align=\"center\">0.663</td>\n",
        "      <td align=\"center\">(NO) </td>\n",
        "      <td align=\"center\">0.393</td>\n",
        "      <td align=\"center\">(NO) </td>\n",
        "      <td align=\"center\">0.588</td>\n",
        "      </tr>\n",
        "      </tbody>\n",
        "      </table>    \n",
        "  \n",
        "   **Importante**: de acá en más sólamente utilizaremos el score promedio cuando hagamos _K-fold cross-validation_.|"
      ],
      "metadata": {
        "id": "ukdVaXneuta7"
      }
    },
    {
      "cell_type": "markdown",
      "source": [
        "3. Explorar las siguientes combinaciones de parámetros para  árboles de decisión (siguiendo con $k-fold$ con $k=5$) utilizando [ParameterGrid](https://scikit-learn.org/stable/modules/generated/sklearn.model_selection.ParameterGrid.html) de _scikit learn_. No está permitido utilizar `GridSearchCV` en este ejercicio.\n",
        "\n",
        "   <table>\n",
        "   <thead>\n",
        "   <tr>\n",
        "   <th align=\"center\">Altura máxima</th>\n",
        "   <th align=\"center\">Criterio de corte</th>\n",
        "   <th>Accuracy (training)</th>\n",
        "   <th>Accuracy (validación)</th>\n",
        "   </tr>\n",
        "   </thead>\n",
        "   <tbody><tr>\n",
        "   <td align=\"center\">3</td>\n",
        "   <td align=\"center\">Gini</td>\n",
        "   <td align=\"center\">0.805</td>\n",
        "   <td align=\"center\">0.659</td>\n",
        "   </tr>\n",
        "   <tr>\n",
        "   <td align=\"center\">5</td>\n",
        "   <td align=\"center\">Gini</td>\n",
        "   <td align=\"center\">0.921</td>\n",
        "   <td align=\"center\">0.631</td>\n",
        "   </tr>\n",
        "   <tr>\n",
        "   <td align=\"center\">Infinito</td>\n",
        "   <td align=\"center\">Gini</td>\n",
        "   <td align=\"center\">1.0</td>\n",
        "   <td align=\"center\">0.632</td>\n",
        "   </tr>\n",
        "   <tr>\n",
        "   <td align=\"center\">3</td>\n",
        "   <td align=\"center\">Entropía</td>\n",
        "   <td align=\"center\">0.772</td>\n",
        "   <td align=\"center\">0.661</td>\n",
        "   </tr>\n",
        "   <tr>\n",
        "   <td align=\"center\">5</td>\n",
        "   <td align=\"center\">Entropía</td>\n",
        "   <td align=\"center\">0.892</td>\n",
        "   <td align=\"center\">0.714</td>\n",
        "   </tr>\n",
        "   <tr>\n",
        "   <td align=\"center\">Infinito</td>\n",
        "   <td align=\"center\">Entropía</td>\n",
        "   <td align=\"center\">1.0</td>\n",
        "   <td align=\"center\">0.682</td>\n",
        "   </tr>\n",
        "   </tbody></table>\n"
      ],
      "metadata": {
        "id": "U_3QmRnEvgDy"
      }
    },
    {
      "cell_type": "code",
      "source": [
        "from sklearn.model_selection import ParameterGrid\n",
        "from sklearn.model_selection import StratifiedKFold\n",
        "\n",
        "param_grid = ParameterGrid({\"max_depth\": [3, 5, None],\n",
        "                            \"criterion\": [\"gini\", \"entropy\"]})\n",
        "\n",
        "for param_comb in param_grid:\n",
        "    arbol = DecisionTreeClassifier(**param_comb)\n",
        "    scores = cross_validate(\n",
        "        arbol,\n",
        "        X_dev, y_dev,\n",
        "        cv=5,\n",
        "        scoring=\"accuracy\",\n",
        "        return_train_score=True,\n",
        "    )\n",
        "    print(f\"(max_depth={param_comb['max_depth']}, criterio={param_comb['criterion']}):\")\n",
        "    print(f\"Accuracy (training): {scores['train_score'].mean()}\")\n",
        "    print(f\"Accuracy (validación): {scores['test_score'].mean()}\")\n",
        "    print()"
      ],
      "metadata": {
        "colab": {
          "base_uri": "https://localhost:8080/"
        },
        "id": "6eqjvsUFviQa",
        "outputId": "889e255c-0867-4bff-bbe4-8991a8b2c899"
      },
      "execution_count": 196,
      "outputs": [
        {
          "output_type": "stream",
          "name": "stdout",
          "text": [
            "(max_depth=3, criterio=gini):\n",
            "Accuracy (training): 0.8051508620689655\n",
            "Accuracy (validación): 0.6591455696202532\n",
            "\n",
            "(max_depth=5, criterio=gini):\n",
            "Accuracy (training): 0.9210619122257053\n",
            "Accuracy (validación): 0.6313924050632911\n",
            "\n",
            "(max_depth=None, criterio=gini):\n",
            "Accuracy (training): 1.0\n",
            "Accuracy (validación): 0.6315822784810127\n",
            "\n",
            "(max_depth=3, criterio=entropy):\n",
            "Accuracy (training): 0.7719318181818181\n",
            "Accuracy (validación): 0.6616455696202531\n",
            "\n",
            "(max_depth=5, criterio=entropy):\n",
            "Accuracy (training): 0.8922217868338558\n",
            "Accuracy (validación): 0.7141455696202531\n",
            "\n",
            "(max_depth=None, criterio=entropy):\n",
            "Accuracy (training): 1.0\n",
            "Accuracy (validación): 0.6816139240506329\n",
            "\n"
          ]
        }
      ]
    },
    {
      "cell_type": "markdown",
      "source": [
        "4. ¿Qué conclusiones se pueden sacar de estas tablas?"
      ],
      "metadata": {
        "id": "FnSED71mkzVJ"
      }
    },
    {
      "cell_type": "markdown",
      "metadata": {
        "id": "eBTwoL6_ilc6"
      },
      "source": [
        "## Ejercicio 3\n",
        "\n",
        "### Comparación de algoritmos\n",
        "\n",
        "Se pide explorar distintas combinaciones de algoritmos de aprendizaje con diferentes configuraciones con el objetivo de **encontrar el mejor modelo** de cada familia de buscar la performance óptima. Para este ejercicio realizar una experimentación utilizando [`RandomizedSearchCV`](https://scikit-learn.org/stable/modules/generated/sklearn.model_selection.RandomizedSearchCV.html). Como métrica de performance usar AUCROC resultante de 5-fold cross-validation.\n",
        "\n",
        "Hiperparámetros_: Revisar la documentación de cada uno de los hiperparámetros para entender qué posibles hiperparámetros impacten de manera positiva en la construcción del algoritmo.\n",
        "\n",
        "Documentación extra sobre [`Tuning hyper-parameters`](https://scikit-learn.org/stable/modules/grid_search.html), leer hasta 3.2.2.\n",
        "\n",
        "1. Algoritmos a probar:\n",
        "  - Árboles de decisión. Mínimo 4 hiperparámetros.\n",
        "  - KNN (k-vecinos más cercanos). Mínimo 3 hiperparámetros.\n",
        "  - SVM (Support vector machine). Mínimo 2 hiperparámetros.\n",
        "\n",
        "Detallar los hiperparámetros elegidos para cada algoritmo y explicar la razón del espacio de búsqueda considerado para cada uno de estos, ¿cuántas iteraciones usaron?. A su vez, reportar la performance asociada de aquellos que consideren relevantes (al menos la mejor combinación para cada algoritmo)."
      ]
    },
    {
      "cell_type": "code",
      "source": [
        "from sklearn.model_selection import RandomizedSearchCV\n",
        "AUCROC = metricas['AUCROC']"
      ],
      "metadata": {
        "id": "6TfCb-zb0SWM"
      },
      "execution_count": 283,
      "outputs": []
    },
    {
      "cell_type": "markdown",
      "source": [
        "### Arboles de decisión:"
      ],
      "metadata": {
        "id": "tXi74cyGubYb"
      }
    },
    {
      "cell_type": "code",
      "source": [
        "DecisionTreeClassifier().get_params()"
      ],
      "metadata": {
        "colab": {
          "base_uri": "https://localhost:8080/"
        },
        "id": "NXzGPpdUugeU",
        "outputId": "722b9a52-3724-42da-ae33-68dcb700e862"
      },
      "execution_count": 206,
      "outputs": [
        {
          "output_type": "execute_result",
          "data": {
            "text/plain": [
              "{'ccp_alpha': 0.0,\n",
              " 'class_weight': None,\n",
              " 'criterion': 'gini',\n",
              " 'max_depth': None,\n",
              " 'max_features': None,\n",
              " 'max_leaf_nodes': None,\n",
              " 'min_impurity_decrease': 0.0,\n",
              " 'min_samples_leaf': 1,\n",
              " 'min_samples_split': 2,\n",
              " 'min_weight_fraction_leaf': 0.0,\n",
              " 'monotonic_cst': None,\n",
              " 'random_state': None,\n",
              " 'splitter': 'best'}"
            ]
          },
          "metadata": {},
          "execution_count": 206
        }
      ]
    },
    {
      "cell_type": "code",
      "source": [
        "dtc_param_grid ={\n",
        "    \"max_depth\": [None] + list(range(1, len(X_dev.columns))),\n",
        "    \"criterion\": [\"gini\", \"entropy\"],\n",
        "    \"ccp_alpha\": np.logspace(-20, 0, 20 + 1),\n",
        "    \"class_weight\": [None, \"balanced\"]\n",
        "}\n",
        "\n",
        "dtc = RandomizedSearchCV(DecisionTreeClassifier(), dtc_param_grid,\n",
        "                         cv=5, scoring=AUCROC, random_state=42)\n",
        "dtc.fit(X_dev, y_dev)\n",
        "y_pred_proba = dtc.predict_proba(X_eval)[:, 1]\n",
        "print(f\"Mejores parametros para Árbol de decisión: {dtc.best_params_}\")\n",
        "print(f\"Mejor AUCROC alcanzado en la validaci+on cruzada: {dtc.best_score_}\")\n",
        "print(f\"AUCROC en evaluación: {roc_auc_score(y_eval, y_pred_proba)}\")"
      ],
      "metadata": {
        "colab": {
          "base_uri": "https://localhost:8080/"
        },
        "id": "-WbFhEyAxVhd",
        "outputId": "40a6932a-a9a7-4b12-9e10-fdf5a7af728d"
      },
      "execution_count": 300,
      "outputs": [
        {
          "output_type": "stream",
          "name": "stdout",
          "text": [
            "Mejores parametros para Árbol de decisión: {'max_depth': 65, 'criterion': 'entropy', 'class_weight': 'balanced', 'ccp_alpha': np.float64(1e-13)}\n",
            "Mejor AUCROC alcanzado durante la validaci+on cruzada: 0.41242369974345755\n",
            "AUCROC en evaluación: 0.5827188940092165\n"
          ]
        }
      ]
    },
    {
      "cell_type": "markdown",
      "source": [
        "### KNN (k-vecinos más cercanos):"
      ],
      "metadata": {
        "id": "Bfw3gO_0_J9K"
      }
    },
    {
      "cell_type": "code",
      "source": [
        "from sklearn.neighbors import KNeighborsClassifier\n",
        "\n",
        "KNeighborsClassifier().get_params()"
      ],
      "metadata": {
        "colab": {
          "base_uri": "https://localhost:8080/"
        },
        "id": "pkucyWl0_KsS",
        "outputId": "25b1e8c7-dc4a-4157-b679-30c88e88a963"
      },
      "execution_count": 236,
      "outputs": [
        {
          "output_type": "execute_result",
          "data": {
            "text/plain": [
              "{'algorithm': 'auto',\n",
              " 'leaf_size': 30,\n",
              " 'metric': 'minkowski',\n",
              " 'metric_params': None,\n",
              " 'n_jobs': None,\n",
              " 'n_neighbors': 5,\n",
              " 'p': 2,\n",
              " 'weights': 'uniform'}"
            ]
          },
          "metadata": {},
          "execution_count": 236
        }
      ]
    },
    {
      "cell_type": "code",
      "source": [
        "knn_param_grid = {\n",
        "    \"n_neighbors\": list(range(1, 11)),\n",
        "    \"weights\": [\"uniform\", \"distance\"],\n",
        "    \"p\": list(range(1, 10))\n",
        "}\n",
        "knn = RandomizedSearchCV(KNeighborsClassifier(), knn_param_grid,\n",
        "                         cv=5, scoring=AUCROC, random_state=42)\n",
        "knn.fit(X_dev, y_dev)\n",
        "y_pred_proba = knn.predict_proba(X_eval)[:,1]\n",
        "print(f\"Mejores parametros para KNN: {knn.best_params_}\")\n",
        "print(f\"Mejor AUCROC alcanzado en validación cruzada: {knn.best_score_}\")\n",
        "print(f\"AUCROC en evaluación: {roc_auc_score(y_eval, y_pred_proba)}\")"
      ],
      "metadata": {
        "colab": {
          "base_uri": "https://localhost:8080/"
        },
        "id": "oMAyHDkjANoL",
        "outputId": "8db45794-b050-4838-a782-20b7d1f3a25c"
      },
      "execution_count": 312,
      "outputs": [
        {
          "output_type": "stream",
          "name": "stdout",
          "text": [
            "Mejores parametros para KNN: {'weights': 'distance', 'p': 1, 'n_neighbors': 9}\n",
            "Mejor AUCROC alcanzado en validación cruzada: 0.7687330554812339\n",
            "AUCROC en evaluación: 0.8456221198156683\n"
          ]
        }
      ]
    },
    {
      "cell_type": "markdown",
      "source": [
        "### SVM (Support vector machine):"
      ],
      "metadata": {
        "id": "eRsTsxvCBezk"
      }
    },
    {
      "cell_type": "code",
      "source": [
        "from sklearn.svm import SVC\n",
        "SVC().get_params()"
      ],
      "metadata": {
        "colab": {
          "base_uri": "https://localhost:8080/"
        },
        "id": "UJ92j69XCrCy",
        "outputId": "9f4d9943-c2d4-468b-e359-c13bf2594387"
      },
      "execution_count": 296,
      "outputs": [
        {
          "output_type": "execute_result",
          "data": {
            "text/plain": [
              "{'C': 1.0,\n",
              " 'break_ties': False,\n",
              " 'cache_size': 200,\n",
              " 'class_weight': None,\n",
              " 'coef0': 0.0,\n",
              " 'decision_function_shape': 'ovr',\n",
              " 'degree': 3,\n",
              " 'gamma': 'scale',\n",
              " 'kernel': 'rbf',\n",
              " 'max_iter': -1,\n",
              " 'probability': False,\n",
              " 'random_state': None,\n",
              " 'shrinking': True,\n",
              " 'tol': 0.001,\n",
              " 'verbose': False}"
            ]
          },
          "metadata": {},
          "execution_count": 296
        }
      ]
    },
    {
      "cell_type": "code",
      "source": [
        "svm_param_grid = {\n",
        "    \"C\": np.logspace(-10, 10, 11),\n",
        "    \"degree\": list(range(2, 11)),\n",
        "    \"kernel\": [\"linear\", \"poly\", \"rbf\", \"sigmoid\"],\n",
        "    \"gamma\": [\"scale\", \"auto\"],\n",
        "}\n",
        "svm = RandomizedSearchCV(SVC(), svm_param_grid,\n",
        "                         cv=5,\n",
        "                         scoring=\"roc_auc\", # svm no tiene el método predict_proba\n",
        "                         random_state=42)\n",
        "svm.fit(X_dev, y_dev)\n",
        "y_pred = svm.predict(X_eval)\n",
        "print(f\"Mejores parametros para SVM: {svm.best_params_}\")\n",
        "print(f\"Mejor AUCROC alcanzado en validación cruzada: {svm.best_score_}\")\n",
        "print(f\"AUCROC en evaluación: {roc_auc_score(y_eval, y_pred)}\")"
      ],
      "metadata": {
        "colab": {
          "base_uri": "https://localhost:8080/"
        },
        "id": "eaZx-9jPBecT",
        "outputId": "a04a0f8c-e698-4595-dff1-731c678f2001"
      },
      "execution_count": 311,
      "outputs": [
        {
          "output_type": "stream",
          "name": "stdout",
          "text": [
            "Mejores parametros para SVM: {'kernel': 'linear', 'gamma': 'scale', 'degree': 5, 'C': np.float64(10000.0)}\n",
            "Mejor AUCROC alcanzado en validación cruzadaa: 0.7625027056277056\n",
            "AUCROC en evaluación: 0.6258064516129033\n"
          ]
        }
      ]
    },
    {
      "cell_type": "markdown",
      "source": [
        "2. Compare los resultados obtenidos en el ejercicio anterior con los siguientes modelos con sus hiperparámetros default.\n",
        "\n",
        "  - LDA (Linear discriminant analysis)\n",
        "  - Naïve Bayes"
      ],
      "metadata": {
        "id": "5nNoSeJyuZCM"
      }
    },
    {
      "cell_type": "markdown",
      "source": [
        "### LDA (Linear discriminant analysis):"
      ],
      "metadata": {
        "id": "UOUxqw1oDmLh"
      }
    },
    {
      "cell_type": "code",
      "source": [
        "from sklearn.discriminant_analysis import LinearDiscriminantAnalysis\n",
        "\n",
        "lda = LinearDiscriminantAnalysis()\n",
        "lda.fit(X_dev, y_dev)\n",
        "\n",
        "print(f\"AUCROC en entrenamiento: {roc_auc_score(y_dev, lda.predict_proba(X_dev)[:, 1])}\")\n",
        "print(f\"AUCROC en evaluación: {roc_auc_score(y_eval, lda.predict_proba(X_eval)[:,1])}\")"
      ],
      "metadata": {
        "colab": {
          "base_uri": "https://localhost:8080/"
        },
        "id": "KYV9A515DpVR",
        "outputId": "c62af09a-615e-4bf5-cf89-8f4184ceb952"
      },
      "execution_count": 309,
      "outputs": [
        {
          "output_type": "stream",
          "name": "stdout",
          "text": [
            "AUCROC en entrenamiento: 0.9869772998805257\n",
            "AUCROC en evaluación: 0.7\n"
          ]
        }
      ]
    },
    {
      "cell_type": "markdown",
      "source": [
        "### Naïve Bayes"
      ],
      "metadata": {
        "id": "L675LJ5hGfQM"
      }
    },
    {
      "cell_type": "code",
      "source": [
        "from sklearn.naive_bayes import GaussianNB\n",
        "\n",
        "gnb = GaussianNB()\n",
        "gnb.fit(X_dev, y_dev)\n",
        "\n",
        "print(f\"AUCROC en entrenamiento: {roc_auc_score(y_dev, gnb.predict_proba(X_dev)[:, 1])}\")\n",
        "print(f\"AUCROC en evaluación: {roc_auc_score(y_eval, gnb.predict_proba(X_eval)[:, 1])}\")"
      ],
      "metadata": {
        "colab": {
          "base_uri": "https://localhost:8080/"
        },
        "id": "H9-vwIJdDiGr",
        "outputId": "7489b37c-8750-4ee8-95a3-fe27d6f05c12"
      },
      "execution_count": 310,
      "outputs": [
        {
          "output_type": "stream",
          "name": "stdout",
          "text": [
            "AUCROC en entrenamiento: 0.9680406212664278\n",
            "AUCROC en evaluación: 0.7105990783410138\n"
          ]
        }
      ]
    },
    {
      "cell_type": "markdown",
      "source": [
        "¿Qué resultados obtuvo? ¿Qué hiperparámetros podrían ser relevantes explorar en estos modelos? ¿Por qué?"
      ],
      "metadata": {
        "id": "aZSIxIS3Dbee"
      }
    },
    {
      "cell_type": "markdown",
      "source": [
        "3. ¿Cuál fue el mejor modelo y con qué configuración? Explicar por qué creería que dio mejor (recordando qué hace cada algoritmo y con qué tipo de datos están trabajando)."
      ],
      "metadata": {
        "id": "XBbcbo6PDazz"
      }
    },
    {
      "cell_type": "markdown",
      "metadata": {
        "id": "2mnZIpCkilc7"
      },
      "source": [
        "## Ejercicio 4\n",
        "### Diagnóstico Sesgo-Varianza.\n",
        "\n",
        "<span style=\"color: red;\">(no realizar hasta la clase _Sesgo y Varianza_)</span>\n",
        "\n",
        "En este punto, se pide inspeccionar **tres** de sus mejores modelos encontrados hasta ahora de cada familia de modelos: la mejor configuración para el árbol de decisión y la mejor configuración para SVM. Para ello:\n",
        "\n",
        "1. Graficar curvas de complejidad para cada modelo, variando la profundidad en el caso de árboles, y el hiperparámetro C en el caso de SVM. Diagnosticar cómo afectan al sesgo y a la varianza esos dos hiperparámetros.\n",
        "2. Graficar curvas de aprendizaje para cada modelo pero ahora incluya LDA. En base a estas curvas, sacar conclusiones sobre si los algoritmos parecen haber alcanzado su límite, o bien si aumentar la cantidad de datos debería ayudar.\n",
        "3. Construir un modelo **RandomForest** con 200 árboles. Explorar para qué sirve el hiperparámetro max_features y cómo afecta a la performance del algoritmo mediante una curva de complejidad. Explicar por qué creen que se dieron los resultados obtenidos. Por último, graficar una curva de aprendizaje sobre los parámetros elegidos para determinar si sería útil o no conseguir más datos.\n",
        "\n",
        "\n",
        "**Atención**: Tener en cuenta que debemos seguir utilizando AUC ROC como métrica para estas curvas.\n"
      ]
    },
    {
      "cell_type": "markdown",
      "metadata": {
        "id": "9rjvVUjfilc7"
      },
      "source": [
        "## Ejercicio 5:\n",
        "### Evaluación de performance\n",
        "\n",
        "- La entrega del trabajo estará acompañada de una evaluación en la cual deberán poner a prueba su mejor modelo y sobre todo, su capacidad para estimar sus resultados.\n",
        "\n",
        "- Su tarea será estimar la performance (AUCROC) que tendrá su mejor modelo en datos de evaluación (X_held_out).\n",
        "\n",
        "- Para ello, deberán predecir las **probabilidades** de las distintas instancias con su modelo, enviarnos dichas probabilidades junto a una estimación con 4 decimales de cuál será el AUCROC resultante y calcularemos el resultado real. Consideraremos que el **mejor modelo será el que se encuentre más cerca del valor real que calcularemos luego de la entrega**.\n",
        "\n",
        "- Recomendamos no perder de vista esta evaluación/competencia durante el desarrollo del TP, sobretodo en el momento de separar los datos en los primeros puntos.\n",
        "\n",
        "- Para que podamos evaluar la performance, junto con la entrega del informe, deberán enviar un archivo con el numero de grupo con dos digitos en formato csv con la columna `output` y el valor obtenido con 4 decimales (se subirá un ejemplo cuando se publiquen los datos de la competencia) y un valor esperado de AUCROC: `GG_y_pred_held_out_AUCROC`.\n",
        "\n",
        "    - Ej.: el grupo tres cree que obtuvo un valor de 0.7321 de AUCROC deberá submitear un archivo llamado: `03_y_pred_held_out_7321.csv`.\n",
        "\n",
        "- Los datos podrán encontrarlos en este [link](https://github.com/aprendizaje-automatico-dc-uba-ar/material/tree/main/tp/01_aprendizaje_supervisado/datos).\n",
        "\n",
        "- Las decisiones de este punto pueden desarrollarse hasta en una carilla, aunque con media debería alcanzar.\n"
      ]
    },
    {
      "cell_type": "markdown",
      "metadata": {
        "id": "ncjtdjVRilc8"
      },
      "source": [
        "## Ejercicio 6:\n",
        "### Conclusiones\n",
        "\n",
        "Escribir como mínimo en un párrafo, una conclusión del trabajo realizado, incluyendo problemas encontrados y\n",
        "aspectos no incluidos en el enunciado que hayan sido abordadas durante el desarrollo."
      ]
    },
    {
      "cell_type": "markdown",
      "metadata": {
        "id": "IXOYU9uXilc9"
      },
      "source": [
        "---\n",
        "## Entregables\n",
        "- Contarán con un esqueleto en formato Jupyter Notebook en donde podrán intercalar celdas para reportar y responder a los ítems de cada ejercicio.\n",
        "- Los entregrables serán\n",
        "    - Un informe en formato .pdf (**digital**) que responda a los ítems de este enunciado respetando la cantidad de espacio máximo por cada ítem. Nombrarlo siguiendo el formato `GG_Nombre_de_grupo`\n",
        "    - Adjuntar el notebook final en formatos .pdf e .ipynb. Es necesario que los resultados puedan reproducirse al ejecutar todas las celdas en orden (verificarlo haceindo: Kernel -> Restart and Run All).\n",
        "    - Las predicciones del *held out* del punto 5 en formato csv.\n",
        "- Habŕa una entrega intermedia obligatoria que deberán hacer antes del 17 de abril de 2025 a las 17:00hs. Para esta entrega deberán enviar el código que resuelve los primeros 3 ejercicios.\n",
        "- La **fecha** y **hora límite** de entrega está determinada en el campus de la materia.\n",
        "- El trabajo deberá elaborarse en grupos de 5 personas.\n",
        "- Se podrán pedir pruebas de integridad y autoría; es decir, verificar que la salida solicitada es fruto del modelo presentado y que el modelo fue construido según lo requerido en este enunciado.\n",
        "- La evaluación será grupal y se basará en la calidad del informe (presentación, claridad, prolijidad); la originalidad, practicidad y coherencia técnica de la solución; la corrección y solidez de las pruebas realizadas.\n"
      ]
    },
    {
      "cell_type": "markdown",
      "metadata": {
        "id": "u68M7v2Ailc-"
      },
      "source": [
        "### Importante: sobre el uso de ChatGPT y grandes modelos de lenguaje\n",
        "\n",
        "En este trabajo no estará explícitamente prohibido pero si fuertemente desaconsejado, consideramos a este trabajo práctico una importante herramienta de aprendizaje donde el uso de GPT puede ser perjudicial. En caso de usarlo se pide aclararlo en el informe y especificar cómo y en donde se utilizó. Así como expresar su opinión sobre la respuesta generada por el modelo pudiendo estar a favor o en contra de lo propuesto por este. Pueden adjuntar el link a la conversación con el modelo."
      ]
    },
    {
      "cell_type": "markdown",
      "metadata": {
        "id": "MH4HKjiTilc_"
      },
      "source": [
        "**Nota**: Agradecemos a [Martín García Sola](https://ar.linkedin.com/in/martin-e-garcia-sola) por la asistencia biológica en la confección de este Trabajo Práctico."
      ]
    }
  ],
  "metadata": {
    "kernelspec": {
      "display_name": "Python 3 (ipykernel)",
      "language": "python",
      "name": "python3"
    },
    "language_info": {
      "codemirror_mode": {
        "name": "ipython",
        "version": 3
      },
      "file_extension": ".py",
      "mimetype": "text/x-python",
      "name": "python",
      "nbconvert_exporter": "python",
      "pygments_lexer": "ipython3",
      "version": "3.12.1"
    },
    "colab": {
      "provenance": []
    }
  },
  "nbformat": 4,
  "nbformat_minor": 0
}